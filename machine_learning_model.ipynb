{
 "cells": [
  {
   "cell_type": "code",
   "execution_count": 1,
   "metadata": {},
   "outputs": [],
   "source": [
    "import os\n",
    "import pandas as pd\n",
    "import numpy as np\n",
    "from sklearn.neighbors import KNeighborsClassifier\n",
    "from sklearn.ensemble import GradientBoostingClassifier, RandomForestClassifier\n",
    "from sklearn.tree import DecisionTreeClassifier\n",
    "from xgboost import XGBClassifier\n",
    "from sklearn.metrics import accuracy_score\n",
    "from sklearn.model_selection import train_test_split"
   ]
  },
  {
   "cell_type": "code",
   "execution_count": 2,
   "metadata": {},
   "outputs": [],
   "source": [
    "# Train data path\n",
    "train_data_path = os.getcwd() + '/train.csv'\n",
    "test_data_path = os.getcwd() + '/test.csv'\n",
    "\n",
    "# Retrieving the train data\n",
    "train_data = pd.read_csv(train_data_path)\n",
    "test_data = pd.read_csv(test_data_path)\n",
    "\n",
    "# View the data\n",
    "# train_data.head()\n",
    "# test_data.head()"
   ]
  },
  {
   "cell_type": "code",
   "execution_count": 3,
   "metadata": {},
   "outputs": [],
   "source": [
    "# Create a copy of the test data\n",
    "test_data_copy = test_data.copy(deep=True)\n",
    "\n",
    "# # View the test data copy\n",
    "# test_data_copy.head()"
   ]
  },
  {
   "cell_type": "code",
   "execution_count": 4,
   "metadata": {},
   "outputs": [],
   "source": [
    "# Remove unique id column\n",
    "del(train_data['uniqueid'])\n",
    "del(test_data_copy['uniqueid'])\n",
    "\n",
    "# View the data\n",
    "# train_data.head()\n",
    "# test_data_copy.head()"
   ]
  },
  {
   "cell_type": "code",
   "execution_count": 5,
   "metadata": {},
   "outputs": [],
   "source": [
    "# Define categories\n",
    "def household_category(size):\n",
    "    if size <= 5:\n",
    "        return 'Xsmall'\n",
    "    elif size > 5 and size <= 9:\n",
    "        return 'Small'\n",
    "    elif size > 9 and size <= 15:\n",
    "        return 'Medium'\n",
    "    elif size > 15:\n",
    "        return 'Large'\n",
    "    \n",
    "def age_category(age):\n",
    "    if age <= 17:\n",
    "        return 'Teen'\n",
    "    elif age > 17 and age <= 40:\n",
    "        return 'Youth'\n",
    "    elif age > 40 and age <= 60:\n",
    "        return 'Adult'\n",
    "    elif age > 60 and age <= 80:\n",
    "        return 'Old'\n",
    "    elif age > 80:\n",
    "        return 'Very Old'\n",
    "\n",
    "# Group to categories\n",
    "train_data['household_size'] = train_data['household_size'].apply(household_category)\n",
    "train_data['age_of_respondent'] = train_data['age_of_respondent'].apply(age_category)\n",
    "\n",
    "test_data_copy['household_size'] = test_data_copy['household_size'].apply(household_category)\n",
    "test_data_copy['age_of_respondent'] = test_data_copy['age_of_respondent'].apply(age_category)"
   ]
  },
  {
   "cell_type": "code",
   "execution_count": 6,
   "metadata": {},
   "outputs": [],
   "source": [
    "# Integer equivalent of values\n",
    "country = {'Kenya':0, 'Rwanda':1, 'Tanzania':2, 'Uganda':3}\n",
    "year = {2016:0, 2017:1, 2018:2}\n",
    "bank_account = {'Yes':1, 'No':0}\n",
    "location_type = {'Rural':0, 'Urban':1}\n",
    "cellphone_access = {'Yes':0, 'No':1}\n",
    "household_size = {'Xsmall':0, 'Small':1, 'Medium':2, 'Large':3}\n",
    "age_of_respondent = {'Teen':0, 'Youth':1, 'Adult':2, 'Old':3, 'Very Old':4}\n",
    "gender_of_respondent = {'Male':0, 'Female':1}\n",
    "relationship_with_head = {'Spouse':0, 'Head of Household':1, 'Other relative':2, 'Child':3, 'Parent':4, 'Other non-relatives': 5}\n",
    "marital_status = {'Married/Living together':0, 'Widowed':1, 'Single/Never Married':2, 'Divorced/Seperated':3, 'Dont know':4}\n",
    "education_level = {'Secondary education':0, 'No formal education':1, 'Vocational/Specialised training':2, 'Primary education':3, 'Tertiary education': 4, 'Other/Dont know/RTA':5}\n",
    "job_type = {'Self employed':0, 'Government Dependent':1, 'Formally employed Private':2, 'Informally employed':3, 'Formally employed Government':4, 'Farming and Fishing':5, 'Remittance Dependent':6, 'Other Income':7, 'Dont Know/Refuse to answer':8, 'No Income':9}\n",
    "\n",
    "# Data encoding\n",
    "train_data['country'] = train_data['country'].replace(country)\n",
    "train_data['year'] = train_data['year'].replace(year)\n",
    "train_data['bank_account'] = train_data['bank_account'].replace(bank_account)\n",
    "train_data['location_type'] = train_data['location_type'].replace(location_type)\n",
    "train_data['cellphone_access'] = train_data['cellphone_access'].replace(cellphone_access)\n",
    "train_data['household_size'] = train_data['household_size'].replace(household_size)\n",
    "train_data['age_of_respondent'] = train_data['age_of_respondent'].replace(age_of_respondent)\n",
    "train_data['gender_of_respondent'] = train_data['gender_of_respondent'].replace(gender_of_respondent)\n",
    "train_data['relationship_with_head'] = train_data['relationship_with_head'].replace(relationship_with_head)\n",
    "train_data['marital_status'] = train_data['marital_status'].replace(marital_status)\n",
    "train_data['education_level'] = train_data['education_level'].replace(education_level)\n",
    "train_data['job_type'] = train_data['job_type'].replace(job_type)\n",
    "\n",
    "test_data_copy['country'] = test_data_copy['country'].replace(country)\n",
    "test_data_copy['year'] = test_data_copy['year'].replace(year)\n",
    "test_data_copy['location_type'] = test_data_copy['location_type'].replace(location_type)\n",
    "test_data_copy['cellphone_access'] = test_data_copy['cellphone_access'].replace(cellphone_access)\n",
    "test_data_copy['household_size'] = test_data_copy['household_size'].replace(household_size)\n",
    "test_data_copy['age_of_respondent'] = test_data_copy['age_of_respondent'].replace(age_of_respondent)\n",
    "test_data_copy['gender_of_respondent'] = test_data_copy['gender_of_respondent'].replace(gender_of_respondent)\n",
    "test_data_copy['relationship_with_head'] = test_data_copy['relationship_with_head'].replace(relationship_with_head)\n",
    "test_data_copy['marital_status'] = test_data_copy['marital_status'].replace(marital_status)\n",
    "test_data_copy['education_level'] = test_data_copy['education_level'].replace(education_level)\n",
    "test_data_copy['job_type'] = test_data_copy['job_type'].replace(job_type)\n",
    "\n",
    "# # View the data\n",
    "# train_data.head()\n",
    "# test_data_copy.head()"
   ]
  },
  {
   "cell_type": "code",
   "execution_count": 7,
   "metadata": {},
   "outputs": [],
   "source": [
    "# Convert dataframe to numpy array\n",
    "training_data = np.array(train_data)\n",
    "test_data_copy = np.array(test_data_copy)\n",
    "\n",
    "# Split the training data to X and Y features\n",
    "x_features = np.delete(training_data, 2, axis=1)\n",
    "y_features = training_data[:, 2]\n",
    "\n",
    "# Split the data to train and test sets\n",
    "x_train, x_test, y_train, y_test = train_test_split(x_features, y_features, train_size=0.7)"
   ]
  },
  {
   "cell_type": "code",
   "execution_count": 8,
   "metadata": {},
   "outputs": [
    {
     "name": "stdout",
     "output_type": "stream",
     "text": [
      "0.8917769950200413 0.8875035420799093\n"
     ]
    }
   ],
   "source": [
    "# Create the model\n",
    "clf = GradientBoostingClassifier(min_samples_split=50, subsample=0.7, learning_rate=0.15) # accuracy = 88.9\n",
    "# clf = RandomForestClassifier(min_samples_split=50) accuracy = 87.8\n",
    "# clf = DecisionTreeClassifier(min_samples_split=50) # accuracy = 87.9\n",
    "# clf = KNeighborsClassifier(n_neighbors=4, p=1) # accuracy = 87.3\n",
    "# clf = XGBClassifier(objective='binary:logistic', max_depth=2, learning_rate=0.3, subsample=0.7) # accuracy = 88.5\n",
    "clf.fit(x_train, y_train)\n",
    "\n",
    "# Calculate the train and test score\n",
    "train_score = clf.score(x_train, y_train)\n",
    "test_score = clf.score(x_test, y_test)\n",
    "print(train_score, test_score)\n",
    "\n",
    "# # Calculate the accuracy score of the model\n",
    "# y_pred = clf.predict(x_test)\n",
    "# score = accuracy_score(y_test, y_pred)\n",
    "# score"
   ]
  },
  {
   "cell_type": "code",
   "execution_count": 9,
   "metadata": {},
   "outputs": [],
   "source": [
    "# submitting_pred = clf.predict(test_data_copy)\n",
    "\n",
    "# # Creating a submission file of the predictions\n",
    "# import csv\n",
    "\n",
    "# with open('submission_file.csv', mode='w') as submission_file:\n",
    "#     individual_writer = csv.writer(submission_file, delimiter=',')\n",
    "    \n",
    "#     individual_writer.writerow(['uniqueid', 'bank_account'])\n",
    "    \n",
    "#     for i in range(len(test_data)):\n",
    "#         unique_id = test_data.loc[i]['uniqueid'] + ' x ' + test_data.loc[i]['country']\n",
    "#         individual_writer.writerow([unique_id, submitting_pred[i]])"
   ]
  }
 ],
 "metadata": {
  "kernelspec": {
   "display_name": "Python 3",
   "language": "python",
   "name": "python3"
  },
  "language_info": {
   "codemirror_mode": {
    "name": "ipython",
    "version": 3
   },
   "file_extension": ".py",
   "mimetype": "text/x-python",
   "name": "python",
   "nbconvert_exporter": "python",
   "pygments_lexer": "ipython3",
   "version": "3.7.6"
  }
 },
 "nbformat": 4,
 "nbformat_minor": 4
}
